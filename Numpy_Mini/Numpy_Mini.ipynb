{
  "nbformat": 4,
  "nbformat_minor": 0,
  "metadata": {
    "colab": {
      "provenance": []
    },
    "kernelspec": {
      "name": "python3",
      "display_name": "Python 3"
    },
    "language_info": {
      "name": "python"
    }
  },
  "cells": [
    {
      "cell_type": "code",
      "source": [
        "import numpy as np"
      ],
      "metadata": {
        "id": "yOQH2madff0t"
      },
      "execution_count": 2,
      "outputs": []
    },
    {
      "cell_type": "markdown",
      "source": [
        "🎯 Objective:\n",
        "You are working with student marks data and need to prepare and organize it using NumPy arrays.Your goal is to create, modify, and analyze the data efficiently without using any external libraries.\n",
        "\n",
        "🧠 Project Description:\n",
        "A school has recorded the marks of several students in different subjects.You are required to design a NumPy-based solution to store, manage, and process this data.Your tasks involve creating arrays, changing their shapes, combining data, performing modifications, and analyzing patterns — all using NumPy.\n",
        "\n",
        "📋 Project Tasks:\n",
        "**Data Creation:**Create suitable arrays to represent students, subjects, and their marks.\n",
        "\n",
        "**Data Exploration:**Explore the properties of these arrays — such as their dimensions, size, and structure.\n",
        "\n",
        "**Data Transformation:**Perform necessary reshaping and reorganization of the data to suit various operations.\n",
        "\n",
        "**Data Combination:**Merge or split arrays to simulate adding new students, new subjects, or reorganizing the dataset.\n",
        "\n",
        "**Data Modification:**Apply operations to update marks, remove data, or identify unique information.\n",
        "\n",
        "**Data Type Handling:**Demonstrate how the same data can exist in different data types and how changes affect results.\n",
        "\n",
        "**Copy and View Behavior:**Show the difference between creating a full copy of an array and creating a view of the same data\n"
      ],
      "metadata": {
        "id": "51-FTrDIfcyV"
      }
    },
    {
      "cell_type": "code",
      "execution_count": 3,
      "metadata": {
        "colab": {
          "base_uri": "https://localhost:8080/"
        },
        "id": "K-p-EzIBfGdX",
        "outputId": "7ceeb463-31a1-41e4-b9a9-c25a6d9a5f4e"
      },
      "outputs": [
        {
          "output_type": "stream",
          "name": "stdout",
          "text": [
            "['Alia' 'Riya' 'Ram' 'Priya' 'Eve' 'Don']\n",
            "['Physics' 'Chemistry' 'English' 'Maths']\n",
            "[[90 65 95 91]\n",
            " [80 75 90 85]\n",
            " [95 89 94 87]\n",
            " [76 64 68 87]\n",
            " [89 85 91 85]\n",
            " [88 71 60 40]]\n"
          ]
        }
      ],
      "source": [
        "#Data Creation\n",
        "import numpy as np\n",
        "students=np.array([\"Alia\", \"Riya\", \"Ram\", \"Priya\", \"Eve\", \"Don\"])\n",
        "subjects=np.array([\"Physics\", \"Chemistry\", \"English\", \"Maths\"])\n",
        "marks=np.array([\n",
        "    [90, 65, 95, 91],\n",
        "    [80, 75, 90, 85],\n",
        "    [95, 89, 94, 87],\n",
        "    [76, 64, 68, 87],\n",
        "    [89, 85, 91, 85],\n",
        "    [88, 71, 60, 40]])\n",
        "print(students)\n",
        "print(subjects)\n",
        "print(marks)"
      ]
    },
    {
      "cell_type": "code",
      "source": [
        "#Data Exploration\n",
        "print(students.ndim)\n",
        "print(subjects.ndim)\n",
        "print(marks.ndim)"
      ],
      "metadata": {
        "colab": {
          "base_uri": "https://localhost:8080/"
        },
        "id": "PP96hh-2fqxo",
        "outputId": "935c3b73-c0e5-4643-c25d-1fb3c136b7fb"
      },
      "execution_count": 4,
      "outputs": [
        {
          "output_type": "stream",
          "name": "stdout",
          "text": [
            "1\n",
            "1\n",
            "2\n"
          ]
        }
      ]
    },
    {
      "cell_type": "code",
      "source": [
        "print(students.size)\n",
        "print(subjects.size)\n",
        "print(marks.size)"
      ],
      "metadata": {
        "colab": {
          "base_uri": "https://localhost:8080/"
        },
        "id": "XC3UObM2fvxW",
        "outputId": "31484faa-2372-433c-998a-9e2d1499c171"
      },
      "execution_count": 5,
      "outputs": [
        {
          "output_type": "stream",
          "name": "stdout",
          "text": [
            "6\n",
            "4\n",
            "24\n"
          ]
        }
      ]
    },
    {
      "cell_type": "code",
      "source": [
        "print(students.shape)\n",
        "print(subjects.shape)\n",
        "print(marks.shape)"
      ],
      "metadata": {
        "colab": {
          "base_uri": "https://localhost:8080/"
        },
        "id": "hv43q86xf1tu",
        "outputId": "6f3851ee-f17b-4f6a-b168-f39697c7b30d"
      },
      "execution_count": 6,
      "outputs": [
        {
          "output_type": "stream",
          "name": "stdout",
          "text": [
            "(6,)\n",
            "(4,)\n",
            "(6, 4)\n"
          ]
        }
      ]
    },
    {
      "cell_type": "code",
      "source": [
        "#Data Transformation\n",
        "print(marks.flatten())\n",
        "print(marks.reshape(12,2))\n",
        "print(marks.T)\n",
        "print(np.flip(marks))"
      ],
      "metadata": {
        "colab": {
          "base_uri": "https://localhost:8080/"
        },
        "id": "K154wnS-f7Ft",
        "outputId": "1142be9b-df05-458f-bdb5-6436f750fcd8"
      },
      "execution_count": 7,
      "outputs": [
        {
          "output_type": "stream",
          "name": "stdout",
          "text": [
            "[90 65 95 91 80 75 90 85 95 89 94 87 76 64 68 87 89 85 91 85 88 71 60 40]\n",
            "[[90 65]\n",
            " [95 91]\n",
            " [80 75]\n",
            " [90 85]\n",
            " [95 89]\n",
            " [94 87]\n",
            " [76 64]\n",
            " [68 87]\n",
            " [89 85]\n",
            " [91 85]\n",
            " [88 71]\n",
            " [60 40]]\n",
            "[[90 80 95 76 89 88]\n",
            " [65 75 89 64 85 71]\n",
            " [95 90 94 68 91 60]\n",
            " [91 85 87 87 85 40]]\n",
            "[[40 60 71 88]\n",
            " [85 91 85 89]\n",
            " [87 68 64 76]\n",
            " [87 94 89 95]\n",
            " [85 90 75 80]\n",
            " [91 95 65 90]]\n"
          ]
        }
      ]
    },
    {
      "cell_type": "code",
      "source": [
        "#Data Combination\n",
        "student = np.array(['Alia',\"Riya\",\"Ram\"])\n",
        "marks = np.array([[90, 65, 95, 91],\n",
        "    [80, 75, 90, 85],\n",
        "    [95, 89, 94, 87]])\n",
        "student_1 = np.array([\"Siya\"])\n",
        "marks_1 = np.array([[75,80,90,89]])\n",
        "\n",
        "student = np.concatenate((student,student_1))\n",
        "marks = np.concatenate((marks,marks_1))\n",
        "print(student)\n",
        "print(marks)"
      ],
      "metadata": {
        "colab": {
          "base_uri": "https://localhost:8080/"
        },
        "id": "A0gGo0mlgHXr",
        "outputId": "2f099f41-fd4d-46b6-dcc8-aa41158048d4"
      },
      "execution_count": 8,
      "outputs": [
        {
          "output_type": "stream",
          "name": "stdout",
          "text": [
            "['Alia' 'Riya' 'Ram' 'Siya']\n",
            "[[90 65 95 91]\n",
            " [80 75 90 85]\n",
            " [95 89 94 87]\n",
            " [75 80 90 89]]\n"
          ]
        }
      ]
    },
    {
      "cell_type": "code",
      "source": [
        "marks=marks.reshape(-1)\n",
        "print(marks)\n",
        "np.split(marks,4)"
      ],
      "metadata": {
        "colab": {
          "base_uri": "https://localhost:8080/"
        },
        "id": "SNywuK_dgJAz",
        "outputId": "d254ffbe-6d5b-42ad-97a8-9b15cd12da5d"
      },
      "execution_count": 9,
      "outputs": [
        {
          "output_type": "stream",
          "name": "stdout",
          "text": [
            "[90 65 95 91 80 75 90 85 95 89 94 87 75 80 90 89]\n"
          ]
        },
        {
          "output_type": "execute_result",
          "data": {
            "text/plain": [
              "[array([90, 65, 95, 91]),\n",
              " array([80, 75, 90, 85]),\n",
              " array([95, 89, 94, 87]),\n",
              " array([75, 80, 90, 89])]"
            ]
          },
          "metadata": {},
          "execution_count": 9
        }
      ]
    },
    {
      "cell_type": "code",
      "source": [
        "#Data Modification\n",
        "marks[4] = 40\n",
        "print(marks)"
      ],
      "metadata": {
        "colab": {
          "base_uri": "https://localhost:8080/"
        },
        "id": "T_1Tip2TgNqt",
        "outputId": "5659b721-aebe-4e1d-c153-43d81eb7ae79"
      },
      "execution_count": 10,
      "outputs": [
        {
          "output_type": "stream",
          "name": "stdout",
          "text": [
            "[90 65 95 91 40 75 90 85 95 89 94 87 75 80 90 89]\n"
          ]
        }
      ]
    },
    {
      "cell_type": "code",
      "source": [
        "c=np.delete(marks,4)\n",
        "print(c)"
      ],
      "metadata": {
        "colab": {
          "base_uri": "https://localhost:8080/"
        },
        "id": "Adm927aFgUgS",
        "outputId": "cf18d198-5c95-4ac4-e9a8-beb670377fc8"
      },
      "execution_count": 11,
      "outputs": [
        {
          "output_type": "stream",
          "name": "stdout",
          "text": [
            "[90 65 95 91 75 90 85 95 89 94 87 75 80 90 89]\n"
          ]
        }
      ]
    },
    {
      "cell_type": "code",
      "source": [
        "print(marks)\n",
        "np.unique(marks)"
      ],
      "metadata": {
        "colab": {
          "base_uri": "https://localhost:8080/"
        },
        "id": "CTUFXIj7gXcI",
        "outputId": "6d0507b1-57bb-4732-8291-05946f4c80b4"
      },
      "execution_count": 12,
      "outputs": [
        {
          "output_type": "stream",
          "name": "stdout",
          "text": [
            "[90 65 95 91 40 75 90 85 95 89 94 87 75 80 90 89]\n"
          ]
        },
        {
          "output_type": "execute_result",
          "data": {
            "text/plain": [
              "array([40, 65, 75, 80, 85, 87, 89, 90, 91, 94, 95])"
            ]
          },
          "metadata": {},
          "execution_count": 12
        }
      ]
    },
    {
      "cell_type": "code",
      "source": [
        "#Data Type Handling\n",
        "print(marks.dtype)\n",
        "print(marks.astype(dtype=float))\n",
        "print(marks.astype(dtype=str))"
      ],
      "metadata": {
        "colab": {
          "base_uri": "https://localhost:8080/"
        },
        "id": "k7yEOXo7gaup",
        "outputId": "663967cf-ec2f-4e3e-b679-1d8fb9c0f9cd"
      },
      "execution_count": 13,
      "outputs": [
        {
          "output_type": "stream",
          "name": "stdout",
          "text": [
            "int64\n",
            "[90. 65. 95. 91. 40. 75. 90. 85. 95. 89. 94. 87. 75. 80. 90. 89.]\n",
            "['90' '65' '95' '91' '40' '75' '90' '85' '95' '89' '94' '87' '75' '80'\n",
            " '90' '89']\n"
          ]
        }
      ]
    },
    {
      "cell_type": "code",
      "source": [
        "#Copy & View Behaviour\n",
        "a = marks.copy()\n",
        "a[0] = 99\n",
        "print(a)"
      ],
      "metadata": {
        "colab": {
          "base_uri": "https://localhost:8080/"
        },
        "id": "Re-28Ciuge2t",
        "outputId": "d039e250-82fe-40ef-a05b-b6769ae82491"
      },
      "execution_count": 14,
      "outputs": [
        {
          "output_type": "stream",
          "name": "stdout",
          "text": [
            "[99 65 95 91 40 75 90 85 95 89 94 87 75 80 90 89]\n"
          ]
        }
      ]
    },
    {
      "cell_type": "code",
      "source": [
        "b = marks.view()\n",
        "b[0] = 100\n",
        "print(marks)"
      ],
      "metadata": {
        "colab": {
          "base_uri": "https://localhost:8080/"
        },
        "id": "MAjpllQmgkhI",
        "outputId": "db569a84-aa62-4d26-c8c9-28f8fc2c27f7"
      },
      "execution_count": 15,
      "outputs": [
        {
          "output_type": "stream",
          "name": "stdout",
          "text": [
            "[100  65  95  91  40  75  90  85  95  89  94  87  75  80  90  89]\n"
          ]
        }
      ]
    }
  ]
}